{
 "cells": [
  {
   "cell_type": "markdown",
   "metadata": {},
   "source": [
    "# Clean data"
   ]
  },
  {
   "cell_type": "code",
   "execution_count": 1,
   "metadata": {},
   "outputs": [],
   "source": [
    "import numpy as np\n",
    "import pandas as pd"
   ]
  },
  {
   "cell_type": "code",
   "execution_count": 2,
   "metadata": {},
   "outputs": [],
   "source": [
    "data = pd.read_csv(r'data.csv')"
   ]
  },
  {
   "cell_type": "code",
   "execution_count": 3,
   "metadata": {},
   "outputs": [],
   "source": [
    "data.drop('Timestamp', inplace=True, axis=1)\n",
    "data.drop('Would you rather your neighbors be students or families?', inplace=True, axis=1)\n",
    "data.drop('Is it Important that your neighbors be families?', inplace=True, axis=1)\n",
    "data.drop('Do you prefer your neighbors be families or singles?', inplace=True, axis=1)\n",
    "data.drop('Is it important that your neighbors be students', inplace=True, axis=1)\n",
    "data.drop('What type of neighborhood are you looking for?', inplace=True, axis=1)\n",
    "\n",
    "data.rename(columns = {'Do you prefer a gas or electric stovetop?' : 'gas/electric',\n",
    "                    'For how long are you looking to rent?' : 'rent length',\n",
    "                    'How many rooms do you want?':'rooms',\n",
    "                    'What is your budget for rent?':'budget',\n",
    "                    'How many bathrooms do you want?':'bathrooms',\n",
    "                    'How important is it that you have a master bedroom?':'master',\n",
    "                    'How important is it that you have a storage unit?':'storage',\n",
    "                    'How important is it that you a balcony/garden?':'balcony/garden',\n",
    "                    'How important is it that you have also an electric heater (דוד חשמל) and a regular heater (דוד שמש)?':'electric/solar',\n",
    "                    'How important, is it that you have an air-conditioner in every bedroom? ':'AC',\n",
    "                    'How important is it that you have personal parking spot(s)?':'parking',\n",
    "                    'How Important is it that you have a kosher Kitchen?':'SK',\n",
    "                    'How important is it that you have bus routes near you?':'public transpo',\n",
    "                    'Does it matter if the apartment is next to a school or a apartment complex under construction?':'loud neighborhood',\n",
    "                    'Does it matter to you to be in a building that can undergo construction in the coming year/two years?':'construction to building',\n",
    "                    'How Important is it that your apartment come furnished?':'furnished',\n",
    "                    'How important that the apartment be pet friendly?':'pets',\n",
    "                    'How important that the apartment be smoke friendly?':'smoke',\n",
    "                    'How important that the apartment have a big livingroom?':'livingroom',\n",
    "                    'On which Floor would you want the apartment to be on?':'floor',\n",
    "                    'How important is it which floor you are on?':'floor num',\n",
    "                    'How important that the apartment have elevator access?':'accesiable',\n",
    "                    'Where are you looking for an apartment?':'where',}\n",
    "          , inplace = True)\n"
   ]
  },
  {
   "cell_type": "code",
   "execution_count": 4,
   "metadata": {},
   "outputs": [],
   "source": [
    "phonenumber=[]\n",
    "name=[]\n",
    "for i in range(len(data)):\n",
    "    phonenumber.append(1000000+i)\n",
    "    name.append(\"person\"+ str(i))\n",
    "data[\"phone number\"]= phonenumber\n",
    "data[\"name\"]=name"
   ]
  },
  {
   "cell_type": "code",
   "execution_count": 5,
   "metadata": {},
   "outputs": [],
   "source": [
    "data[\"gas/electric\"].fillna(3, inplace = True)\n",
    "data[\"bathrooms\"].fillna(1.5, inplace = True)\n",
    "data[\"master\"].fillna(3, inplace = True)\n",
    "data[\"storage\"].fillna(3, inplace = True)\n",
    "data[\"balcony/garden\"].fillna(3, inplace = True)\n",
    "data[\"electric/solar\"].fillna(3, inplace = True)\n",
    "data[\"AC\"].fillna(3, inplace = True)\n",
    "data[\"parking\"].fillna(3, inplace = True)\n",
    "data[\"SK\"].fillna(3, inplace = True)\n",
    "data[\"public transpo\"].fillna(3, inplace = True)\n",
    "data[\"loud neighborhood\"].fillna(3, inplace = True)\n",
    "data[\"construction to building\"].fillna(3, inplace = True)\n",
    "data[\"furnished\"].fillna(3, inplace = True)\n",
    "data[\"smoke\"].fillna(3, inplace = True)\n",
    "data[\"pets\"].fillna(3, inplace = True)\n",
    "data[\"livingroom\"].fillna(3, inplace = True)\n",
    "data[\"accesiable\"].fillna(3, inplace = True)"
   ]
  },
  {
   "cell_type": "code",
   "execution_count": 6,
   "metadata": {},
   "outputs": [],
   "source": [
    "data[\"rent length\"].replace(\"1 Month\", 1, regex=True, inplace = True)\n",
    "data[\"rent length\"].replace(\"Half a Year\", 6, regex=True, inplace = True)\n",
    "data[\"rent length\"].replace(\"A Year\", 12, regex=True, inplace = True)\n",
    "data[\"rent length\"].replace(\"2 years\", 24, regex=True, inplace = True)\n",
    "data[\"rent length\"].replace(\"2 Months\", 2, regex=True, inplace = True)"
   ]
  },
  {
   "cell_type": "code",
   "execution_count": 7,
   "metadata": {},
   "outputs": [],
   "source": [
    "for i in range(data.shape[0]):\n",
    "    data[\"budget\"].replace(data[\"budget\"][i], data[\"budget\"][i][-4:], regex=True, inplace = True)\n",
    "data[\"budget\"] = data[\"budget\"].astype(int)"
   ]
  },
  {
   "cell_type": "code",
   "execution_count": 8,
   "metadata": {},
   "outputs": [],
   "source": [
    "for i in range(data.shape[0]):\n",
    "    data[\"rooms\"].replace(data[\"rooms\"][i], data[\"rooms\"][i][-1], regex=True, inplace = True)\n",
    "data[\"rooms\"] = data[\"rooms\"].astype(int)"
   ]
  },
  {
   "cell_type": "code",
   "execution_count": 9,
   "metadata": {},
   "outputs": [],
   "source": [
    "data.to_csv(r'C:\\Users\\talia\\Hackathon\\Hachathon_May22\\data_updated.csv')"
   ]
  },
  {
   "cell_type": "markdown",
   "metadata": {},
   "source": [
    "# Algorithm"
   ]
  },
  {
   "cell_type": "code",
   "execution_count": null,
   "metadata": {},
   "outputs": [],
   "source": []
  },
  {
   "cell_type": "code",
   "execution_count": null,
   "metadata": {},
   "outputs": [],
   "source": []
  },
  {
   "cell_type": "code",
   "execution_count": null,
   "metadata": {},
   "outputs": [],
   "source": []
  },
  {
   "cell_type": "code",
   "execution_count": null,
   "metadata": {},
   "outputs": [],
   "source": []
  },
  {
   "cell_type": "code",
   "execution_count": null,
   "metadata": {},
   "outputs": [],
   "source": []
  },
  {
   "cell_type": "code",
   "execution_count": null,
   "metadata": {},
   "outputs": [],
   "source": []
  },
  {
   "cell_type": "code",
   "execution_count": null,
   "metadata": {},
   "outputs": [],
   "source": []
  }
 ],
 "metadata": {
  "kernelspec": {
   "display_name": "Python 3",
   "language": "python",
   "name": "python3"
  },
  "language_info": {
   "codemirror_mode": {
    "name": "ipython",
    "version": 3
   },
   "file_extension": ".py",
   "mimetype": "text/x-python",
   "name": "python",
   "nbconvert_exporter": "python",
   "pygments_lexer": "ipython3",
   "version": "3.8.3"
  }
 },
 "nbformat": 4,
 "nbformat_minor": 4
}
